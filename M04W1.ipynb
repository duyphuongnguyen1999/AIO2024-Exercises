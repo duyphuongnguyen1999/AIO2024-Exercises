{
  "cells": [
    {
      "cell_type": "code",
      "execution_count": 27,
      "metadata": {
        "id": "BSvZ8xpc3AX4"
      },
      "outputs": [],
      "source": [
        "import numpy as np\n",
        "import matplotlib.pyplot as plt\n",
        "import random"
      ]
    },
    {
      "cell_type": "code",
      "execution_count": 28,
      "metadata": {},
      "outputs": [],
      "source": [
        "def get_column(data, index):\n",
        "    result = []\n",
        "    for row in data:\n",
        "        result.append(row[index])\n",
        "    return result\n",
        "\n",
        "def prepare_data(file_name_dataset):\n",
        "    data = np.genfromtxt(file_name_dataset, delimiter=',', skip_header=1).tolist()\n",
        "    N = len(data)\n",
        "\n",
        "    # get tv (index=0)\n",
        "    tv_data = get_column(data, 0)\n",
        "\n",
        "    # get radio (index=1)\n",
        "    radio_data = get_column(data, 1)\n",
        "\n",
        "    # get newspaper (index=2)\n",
        "    newspaper_data = get_column(data, 2)\n",
        "\n",
        "    # get sales (index=3)\n",
        "    sales_data = get_column(data, 3)\n",
        "\n",
        "    # building X input and y output for training\n",
        "    X = [tv_data, radio_data, newspaper_data]\n",
        "    y = sales_data\n",
        "\n",
        "    return X, y\n",
        "\n",
        "X, y = prepare_data('advertising.csv')\n"
      ]
    },
    {
      "cell_type": "code",
      "execution_count": 29,
      "metadata": {
        "id": "DdBE6A_T4PS6"
      },
      "outputs": [
        {
          "name": "stdout",
          "output_type": "stream",
          "text": [
            "[624.1, 175.10000000000002, 300.5, 78.9]\n"
          ]
        }
      ],
      "source": [
        "# Question 1\n",
        "list = [sum(X[0][:5]), sum(X[1][:5]), sum(X[2][:5]), sum(y[:5])]\n",
        "print(list)"
      ]
    },
    {
      "cell_type": "code",
      "execution_count": 30,
      "metadata": {},
      "outputs": [],
      "source": [
        "def initialize_params():\n",
        "    w1 = random.gauss(mu=0.0, sigma=0.01)\n",
        "    w2 = random.gauss(mu=0.0, sigma=0.01)\n",
        "    w3 = random.gauss(mu=0.0, sigma=0.01)\n",
        "    b = 0\n",
        "    # return w1, w2, w3, b\n",
        "    return 0.016992259082509283, 0.0070783670518262355, -0.002307860847821344, 0"
      ]
    },
    {
      "cell_type": "code",
      "execution_count": 31,
      "metadata": {},
      "outputs": [
        {
          "name": "stdout",
          "output_type": "stream",
          "text": [
            "1.0\n"
          ]
        }
      ],
      "source": [
        "# Question 2\n",
        "def predict(x1, x2, x3, w1, w2, w3, b):\n",
        "    result = x1*w1 + x2*w2 +x3*w3 + b\n",
        "    return result\n",
        "y_pred = predict(x1=1, x2=1, x3=1, w1=0, w2=0.5, w3=0, b=0.5)\n",
        "print(y_pred)"
      ]
    },
    {
      "cell_type": "code",
      "execution_count": 32,
      "metadata": {},
      "outputs": [
        {
          "name": "stdout",
          "output_type": "stream",
          "text": [
            "0.25\n"
          ]
        }
      ],
      "source": [
        "# Question 3\n",
        "def compute_loss_mse(y, y_hat):\n",
        "    loss = (y_hat - y)**2\n",
        "    return loss\n",
        "l = compute_loss_mse(y_hat=1, y=0.5)\n",
        "print(l)"
      ]
    },
    {
      "cell_type": "code",
      "execution_count": 33,
      "metadata": {},
      "outputs": [
        {
          "name": "stdout",
          "output_type": "stream",
          "text": [
            "-1.0 -3.0\n"
          ]
        }
      ],
      "source": [
        "# Question 4 + 5\n",
        "def compute_gradient_wi(xi, y, y_hat):\n",
        "    dl_dwi = 2*xi*(y_hat - y)\n",
        "    return dl_dwi\n",
        "def compute_gradient_b(y, y_hat):\n",
        "    dl_db = 2*(y_hat - y)\n",
        "    return dl_db\n",
        "\n",
        "g_wi = compute_gradient_wi(xi=1.0, y=1.0, y_hat=0.5)\n",
        "g_b = compute_gradient_b(y=2.0, y_hat=0.5)\n",
        "\n",
        "print(g_wi, g_b)"
      ]
    },
    {
      "cell_type": "code",
      "execution_count": 34,
      "metadata": {},
      "outputs": [
        {
          "name": "stdout",
          "output_type": "stream",
          "text": [
            "1.000005 0.50001\n"
          ]
        }
      ],
      "source": [
        "# Question 6 + 7\n",
        "def update_weight_wi(wi, dl_dwi, lr):\n",
        "    wi = wi - lr*dl_dwi\n",
        "    return wi\n",
        "\n",
        "def update_weight_b(b, dl_db, lr):\n",
        "    b = b - lr*dl_db\n",
        "    return b\n",
        "\n",
        "after_wi = update_weight_wi(wi=1.0, dl_dwi=-0.5, lr=1e-5)\n",
        "after_b = update_weight_b(b=0.5, dl_db=-1.0, lr=1e-5)\n",
        "\n",
        "print(after_wi, after_b)"
      ]
    },
    {
      "cell_type": "code",
      "execution_count": 35,
      "metadata": {},
      "outputs": [],
      "source": [
        "# One sample linear regression\n",
        "def implement_linear_regression(X_data, y_data, epoch_max = 50, lr = 1e-5):\n",
        "    losses = []\n",
        "    w1, w2, w3, b = initialize_params()\n",
        "    \n",
        "    N = len(y_data)\n",
        "    \n",
        "    for epoch in range(epoch_max):\n",
        "        for i in range(N):\n",
        "            # get a sample\n",
        "            x1 = X_data[0][i]\n",
        "            x2 = X_data[1][i]\n",
        "            x3 = X_data[2][i]\n",
        "            \n",
        "            y = y_data[i]\n",
        "            \n",
        "            # compute output\n",
        "            y_hat = predict(x1, x2, x3, w1, w2, w3, b)\n",
        "            \n",
        "            # compute loss\n",
        "            loss = compute_loss_mse(y, y_hat)\n",
        "            \n",
        "            # compute gradient w1, w2, w3, b\n",
        "            dl_dw1 = compute_gradient_wi(x1, y, y_hat)\n",
        "            dl_dw2 = compute_gradient_wi(x1, y, y_hat)\n",
        "            dl_dw3 = compute_gradient_wi(x1, y, y_hat)\n",
        "            dl_db = compute_gradient_b(y, y_hat)\n",
        "            \n",
        "            # update parameter\n",
        "            w1 = update_weight_wi(w1, dl_dw1, lr)\n",
        "            w2 = update_weight_wi(w1, dl_dw2, lr)\n",
        "            w3 = update_weight_wi(w1, dl_dw3, lr)\n",
        "            b = update_weight_b(b, dl_db, lr)\n",
        "            \n",
        "            # logging\n",
        "            losses.append(loss)\n",
        "    return (w1, w2, w3, b, losses)"
      ]
    },
    {
      "cell_type": "code",
      "execution_count": 36,
      "metadata": {},
      "outputs": [
        {
          "data": {
            "image/png": "[encoded data removed]",
            "text/plain": [
              "<Figure size 640x480 with 1 Axes>"
            ]
          },
          "metadata": {},
          "output_type": "display_data"
        }
      ],
      "source": [
        "(w1, w2, w3, b, losses) = implement_linear_regression(X, y)\n",
        "plt.plot(losses[:100])\n",
        "plt.xlabel(\"#iteration\")\n",
        "plt.ylabel(\"Loss\")\n",
        "plt.show()"
      ]
    },
    {
      "cell_type": "code",
      "execution_count": 37,
      "metadata": {},
      "outputs": [
        {
          "name": "stdout",
          "output_type": "stream",
          "text": [
            "0.07881299060065254 0.10529822162053179 0.10529822162053179\n"
          ]
        }
      ],
      "source": [
        "# Question 8\n",
        "print(w1, w2, w3)"
      ]
    }
  ],
  "metadata": {
    "colab": {
      "provenance": []
    },
    "kernelspec": {
      "display_name": "Python 3",
      "name": "python3"
    },
    "language_info": {
      "codemirror_mode": {
        "name": "ipython",
        "version": 3
      },
      "file_extension": ".py",
      "mimetype": "text/x-python",
      "name": "python",
      "nbconvert_exporter": "python",
      "pygments_lexer": "ipython3",
      "version": "3.11.7"
    }
  },
  "nbformat": 4,
  "nbformat_minor": 0
}
