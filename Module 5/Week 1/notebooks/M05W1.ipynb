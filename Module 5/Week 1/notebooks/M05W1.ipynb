{
 "cells": [
  {
   "cell_type": "code",
   "execution_count": 1,
   "metadata": {},
   "outputs": [],
   "source": [
    "import pandas as pd \n",
    "import numpy as np \n",
    "import matplotlib.pyplot as plt \n",
    "\n",
    "from sklearn.model_selection import train_test_split\n",
    "from sklearn.preprocessing import StandardScaler"
   ]
  },
  {
   "cell_type": "code",
   "execution_count": 8,
   "metadata": {},
   "outputs": [],
   "source": [
    "dataset_path = \"..\\\\data\\\\titanic_modified_dataset.csv\"\n",
    "df = pd.read_csv(\n",
    "    dataset_path,\n",
    "    index_col = 'PassengerId'\n",
    ")\n",
    "dataset_arr = df.to_numpy().astype(np.float64)\n",
    "X, y =  dataset_arr[: , :-1], dataset_arr[:, -1]\n",
    "\n",
    "intercept = np.ones((\n",
    "    X.shape[0], 1)\n",
    ")\n",
    "\n",
    "X_b = np.concatenate(\n",
    "    (intercept, X),\n",
    "    axis = 1\n",
    ")\n",
    "\n",
    "val_size = 0.2\n",
    "test_size = 0.125\n",
    "random_state = 2\n",
    "is_shuffle = True\n",
    "\n",
    "X_train, X_val, y_train, y_val = train_test_split(\n",
    "    X_b, y,\n",
    "    test_size=val_size,\n",
    "    random_state=random_state,\n",
    "    shuffle=is_shuffle\n",
    ")\n",
    "\n",
    "X_train, X_test, y_train, y_test = train_test_split(\n",
    "    X_train, y_train,\n",
    "    test_size=test_size,\n",
    "    random_state=random_state,\n",
    "    shuffle=is_shuffle\n",
    ")\n",
    "\n",
    "normalizer = StandardScaler()\n",
    "X_train[:, 1: ] = normalizer.fit_transform(X_train[:, 1:])\n",
    "X_val[:, 1:] = normalizer.transform(X_val[:, 1:])\n",
    "X_test[:, 1:] = normalizer.transform(X_test[:, 1:])"
   ]
  },
  {
   "cell_type": "code",
   "execution_count": 11,
   "metadata": {},
   "outputs": [],
   "source": [
    "def sigmoid(z):\n",
    "    return 1 / (1+np.exp(-z))\n",
    "\n",
    "def predict(X, theta):\n",
    "    dot_product = np.dot(X, theta)\n",
    "    y_hat = sigmoid(dot_product)\n",
    "    \n",
    "    return y_hat\n",
    "\n",
    "def compute_loss(y_hat, y):\n",
    "    y_hat = np.clip(\n",
    "        y_hat, 1e-7, 1 - 1e-7\n",
    "    )\n",
    "    \n",
    "    return (\n",
    "        -y * \\\n",
    "            np.log(y_hat) - (1-y) * \\\n",
    "                np.log(1-y_hat)\n",
    "    ).mean()\n",
    "    \n",
    "def compute_gradient(X, y, y_hat):\n",
    "    return np.dot(\n",
    "        X.T, (y_hat - y)\n",
    "    ) / y.size\n",
    "    \n",
    "def update_theta(theta, gradient, lr):\n",
    "    return theta - lr*gradient\n",
    "\n",
    "def compute_accuracy(X, y, theta):\n",
    "    y_hat = predict(X, theta).round()\n",
    "    acc = (y_hat == y).mean()\n",
    "    \n",
    "    return acc\n",
    "        "
   ]
  },
  {
   "cell_type": "code",
   "execution_count": 12,
   "metadata": {},
   "outputs": [],
   "source": [
    "lr = 0.01\n",
    "epochs = 100\n",
    "batch_size = 16\n",
    "\n",
    "np.random.seed(random_state)\n",
    "theta = np.random.uniform(\n",
    "    size = X_train.shape[1]\n",
    ")"
   ]
  },
  {
   "cell_type": "code",
   "execution_count": null,
   "metadata": {},
   "outputs": [],
   "source": []
  }
 ],
 "metadata": {
  "kernelspec": {
   "display_name": "AIO2024-Exercises",
   "language": "python",
   "name": "python3"
  },
  "language_info": {
   "codemirror_mode": {
    "name": "ipython",
    "version": 3
   },
   "file_extension": ".py",
   "mimetype": "text/x-python",
   "name": "python",
   "nbconvert_exporter": "python",
   "pygments_lexer": "ipython3",
   "version": "3.12.7"
  }
 },
 "nbformat": 4,
 "nbformat_minor": 2
}
